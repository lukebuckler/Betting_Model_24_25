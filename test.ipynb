{
 "cells": [
  {
   "cell_type": "code",
   "execution_count": 1,
   "metadata": {},
   "outputs": [],
   "source": [
    "import requests\n",
    "\n",
    "url = 'https://www.oddsshark.com/nhl/odds'\n",
    "headers = {\n",
    "    'User-Agent': 'Mozilla/5.0 (Windows NT 10.0; Win64; x64) AppleWebKit/537.36 (KHTML, like Gecko) Chrome/111.0.0.0 Safari/537.36'\n",
    "}\n",
    "response = requests.get(url, headers=headers)"
   ]
  },
  {
   "cell_type": "code",
   "execution_count": 2,
   "metadata": {},
   "outputs": [],
   "source": [
    "from bs4 import BeautifulSoup\n",
    "\n",
    "soup = BeautifulSoup(response.text, 'html.parser')"
   ]
  },
  {
   "cell_type": "code",
   "execution_count": null,
   "metadata": {},
   "outputs": [],
   "source": [
    "odds_table = soup.find('table', {'class': 'odds-table-class'})  # Replace with the actual class or id"
   ]
  },
  {
   "cell_type": "code",
   "execution_count": null,
   "metadata": {},
   "outputs": [],
   "source": [
    "import pandas as pd\n",
    "\n",
    "data = []\n",
    "rows = odds_table.find_all('tr')\n",
    "for row in rows:\n",
    "    cols = row.find_all('td')\n",
    "    if len(cols) > 1:  # Ensure the row contains data\n",
    "        team = cols[0].text.strip()\n",
    "        odds = cols[1].text.strip()\n",
    "        data.append({'Team': team, 'Odds': odds})\n",
    "\n",
    "# Create a DataFrame\n",
    "df = pd.DataFrame(data)"
   ]
  },
  {
   "cell_type": "code",
   "execution_count": null,
   "metadata": {},
   "outputs": [],
   "source": [
    "df.to_csv('nhl_odds.csv', index=False)\n",
    "print(\"Data saved to nhl_odds.csv\")"
   ]
  },
  {
   "cell_type": "code",
   "execution_count": 4,
   "metadata": {},
   "outputs": [
    {
     "name": "stdout",
     "output_type": "stream",
     "text": [
      "Odds have been saved to nhl_odds.csv\n"
     ]
    }
   ],
   "source": [
    "import requests\n",
    "from bs4 import BeautifulSoup\n",
    "import pandas as pd\n",
    "\n",
    "# Define the URL and headers\n",
    "url = 'https://www.oddsshark.com/nhl/odds'\n",
    "headers = {\n",
    "    'User-Agent': 'Mozilla/5.0 (Windows NT 10.0; Win64; x64) AppleWebKit/537.36 (KHTML, like Gecko) Chrome/111.0.0.0 Safari/537.36'\n",
    "}\n",
    "\n",
    "# Fetch the page content\n",
    "response = requests.get(url, headers=headers)\n",
    "soup = BeautifulSoup(response.text, 'html.parser')\n",
    "\n",
    "# Container for storing odds\n",
    "data = []\n",
    "\n",
    "# Find all event containers\n",
    "events = soup.find_all('div', class_='odds--group__event-container hockey')\n",
    "\n",
    "for event in events:\n",
    "    try:\n",
    "        # Extract team names\n",
    "        teams = event.find_all('div', class_='participant-name')\n",
    "        team1 = teams[0].text.strip()\n",
    "        team2 = teams[1].text.strip()\n",
    "\n",
    "        # Extract odds\n",
    "        odds = event.find_all('div', class_='odds-moneyline')\n",
    "        team1_odds = odds[0].text.strip()\n",
    "        team2_odds = odds[1].text.strip()\n",
    "\n",
    "        # Append the data\n",
    "        data.append({\n",
    "            'Team 1': team1,\n",
    "            'Team 1 Odds': team1_odds,\n",
    "            'Team 2': team2,\n",
    "            'Team 2 Odds': team2_odds\n",
    "        })\n",
    "\n",
    "    except Exception as e:\n",
    "        print(f\"Error processing event: {e}\")\n",
    "\n",
    "# Create a DataFrame\n",
    "df = pd.DataFrame(data)\n",
    "\n",
    "# Save the results to a CSV file\n",
    "df.to_csv('nhl_odds.csv', index=False)\n",
    "print(\"Odds have been saved to nhl_odds.csv\")\n"
   ]
  }
 ],
 "metadata": {
  "kernelspec": {
   "display_name": "Python 3",
   "language": "python",
   "name": "python3"
  },
  "language_info": {
   "codemirror_mode": {
    "name": "ipython",
    "version": 3
   },
   "file_extension": ".py",
   "mimetype": "text/x-python",
   "name": "python",
   "nbconvert_exporter": "python",
   "pygments_lexer": "ipython3",
   "version": "3.10.7"
  }
 },
 "nbformat": 4,
 "nbformat_minor": 2
}
